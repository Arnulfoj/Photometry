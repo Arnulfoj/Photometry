{
 "cells": [
  {
   "cell_type": "code",
   "execution_count": 1,
   "metadata": {},
   "outputs": [],
   "source": [
    "import numpy as np\n",
    "import pandas as pd\n",
    "%matplotlib inline\n",
    "\n",
    "import matplotlib.pyplot as plt\n",
    "import astropy.io.fits as fits\n",
    "import photutils as ph\n",
    "import pandas as pd\n",
    "import glob"
   ]
  },
  {
   "cell_type": "markdown",
   "metadata": {},
   "source": [
    "bias = 0 shutter time(just electronics)\n",
    "\n",
    "dark = bias + dar current (Non zero with shudder on)"
   ]
  },
  {
   "cell_type": "code",
   "execution_count": 2,
   "metadata": {},
   "outputs": [],
   "source": [
    "def master_bias_remover(bias):\n",
    "    summator = bias[0]-bias[0]\n",
    "    for _,itm in enumerate(bias):\n",
    "        summator += itm\n",
    "    summator = summator/len(bias)\n",
    "    return summator\n",
    "\n",
    "def getImageFile(location):\n",
    "    \"\"\"\n",
    "    Gets the 2D array from the given fits file\n",
    "    \"\"\"\n",
    "    return fits.open(location)[0].data\n",
    "\n",
    "def subtraction(list1, list2):\n",
    "    \"\"\"\n",
    "    Subraction with numpy arrays wraps around. So if the value were to be\n",
    "    negative it would instead become the max number and continue the\n",
    "    subtraction. So if 10 was the max then 6-7=9 not 6-7=1\n",
    "    \"\"\"\n",
    "    \n",
    "    #What we will be outputing at the end\n",
    "    output = list()\n",
    "    \n",
    "    #First for loop. Gives current y location and all the x-values\n",
    "    #  along that y-location\n",
    "    for y,xvalues in enumerate(list1):\n",
    "        \n",
    "        # Creating list for x values after subtraction at the current y\n",
    "        xterms = list()\n",
    "        \n",
    "        # gives the current x value location and the value at that location\n",
    "        #  Because of how this is written we are only getting the\n",
    "        #  value at that x,y location from list1\n",
    "        for x,value1 in enumerate(xvalues):\n",
    "            # list2 value at that x,y location\n",
    "            value2 = list2[y][x]\n",
    "            \n",
    "            #Finally the math\n",
    "            if value1 > value2:\n",
    "                # If the value for the first list is larger than the second\n",
    "                #  one we can do a standard subtraction\n",
    "                value = value1 - value2\n",
    "            elif value1 < value2:\n",
    "                # If the second number is larger then I'll reverse the order\n",
    "                #  This is an absolute value version of the math\n",
    "                value = value2 - value1\n",
    "            else:\n",
    "                #the last instance is if they are equal\n",
    "                value = 0\n",
    "            \n",
    "            # adds value from above to the value for the current x\n",
    "            xterms.append(value)\n",
    "        # Adds all the values for the given x to the current y\n",
    "        output.append(xterms)\n",
    "    \n",
    "    return np.array(output)\n",
    "    \n",
    "\n",
    "\n",
    "def gain(meanFlat1,meanFlat2, meanBias1,meanBias2, sdFlat,sdBias):\n",
    "    num = (meanFlat1+meanFlat2) - (meanBias1+meanBias2)\n",
    "    denom = sdFlat**2 - sdBias**2\n",
    "    return num/denom"
   ]
  },
  {
   "cell_type": "code",
   "execution_count": 3,
   "metadata": {},
   "outputs": [
    {
     "name": "stdout",
     "output_type": "stream",
     "text": [
      "bias.0006.fits       flat.0012.fits       flat.0030.fits\r\n",
      "bias.0007.fits       flat.0013.fits       flat.0031.fits\r\n",
      "bias.0008.fits       flat.0014.fits       flat.0032.fits\r\n",
      "bias.0009.fits       flat.0015.fits       flat.0033.fits\r\n",
      "bias.0010.fits       flat.0016.fits       flat.0034.fits\r\n",
      "bias.0011.fits       flat.0017.fits       flat.0035.fits\r\n",
      "bias.0012.fits       flat.0018.fits       flat.0036.fits\r\n",
      "bias.0013.fits       flat.0019.fits       flat.0037.fits\r\n",
      "bias.0014.fits       flat.0020.fits       flat.0038.fits\r\n",
      "bias.0015.fits       flat.0021.fits       flat.0039.fits\r\n",
      "bias.0016.fits       flat.0022.fits       flat.0040.fits\r\n",
      "flat.0005.fits       flat.0023.fits       flat.0041.fits\r\n",
      "flat.0006.fits       flat.0024.fits       wolf1346_.0001.fits\r\n",
      "flat.0007.fits       flat.0025.fits       wolf1346_.0002.fits\r\n",
      "flat.0008.fits       flat.0026.fits       wolf1346_.0003.fits\r\n",
      "flat.0009.fits       flat.0027.fits       wolf1346_m.0001.fits\r\n",
      "flat.0010.fits       flat.0028.fits\r\n",
      "flat.0011.fits       flat.0029.fits\r\n"
     ]
    }
   ],
   "source": [
    "!ls  data_wolf/"
   ]
  },
  {
   "cell_type": "code",
   "execution_count": 4,
   "metadata": {},
   "outputs": [],
   "source": [
    "bias_locations = [\"bias.0006.fits\", \"bias.0007.fits\", \"bias.0008.fits\", \n",
    "                 \"bias.0009.fits\", \"bias.0010.fits\", \"bias.0011.fits\", \n",
    "                 \"bias.0012.fits\", \"bias.0013.fits\", \"bias.0014.fits\", \n",
    "                 \"bias.0015.fits\", \"bias.0016.fits\"]"
   ]
  },
  {
   "cell_type": "code",
   "execution_count": 5,
   "metadata": {},
   "outputs": [],
   "source": [
    "bias_frames = list()\n",
    "for _,name in enumerate(bias_locations):\n",
    "    file = fits.open(\"data_wolf/\" + name)\n",
    "    bias_frames.append(file[0].data)"
   ]
  },
  {
   "cell_type": "code",
   "execution_count": null,
   "metadata": {},
   "outputs": [],
   "source": []
  },
  {
   "cell_type": "code",
   "execution_count": 6,
   "metadata": {},
   "outputs": [],
   "source": [
    "master_bias = master_bias_remover(bias_frames)"
   ]
  },
  {
   "cell_type": "code",
   "execution_count": 7,
   "metadata": {},
   "outputs": [],
   "source": [
    "image = getImageFile(\"data_wolf/wolf1346_.0001.fits\")"
   ]
  },
  {
   "cell_type": "markdown",
   "metadata": {},
   "source": [
    "Overscan: Region at the edge of an image. In our case it appears to be two pixels on each side"
   ]
  },
  {
   "cell_type": "code",
   "execution_count": 8,
   "metadata": {},
   "outputs": [],
   "source": [
    "image_noBias = image - master_bias"
   ]
  },
  {
   "cell_type": "code",
   "execution_count": 9,
   "metadata": {},
   "outputs": [
    {
     "name": "stdout",
     "output_type": "stream",
     "text": [
      "351.70354319927594\n",
      "351.3568139518693\n",
      "351.65315007774245\n",
      "351.7383458262746\n",
      "351.675116381611\n",
      "351.7116537095913\n",
      "351.40129446984287\n",
      "351.67762200923625\n",
      "351.6943257292706\n",
      "351.5752312547864\n",
      "351.4999043883874\n",
      "\n",
      "\n",
      "351.47656093552536\n"
     ]
    }
   ],
   "source": [
    "for _,itm in enumerate(bias_frames):\n",
    "    print(itm.mean())\n",
    "print(\"\\n\\n\" + str(master_bias.mean()))"
   ]
  },
  {
   "cell_type": "code",
   "execution_count": null,
   "metadata": {},
   "outputs": [],
   "source": []
  },
  {
   "cell_type": "code",
   "execution_count": null,
   "metadata": {},
   "outputs": [],
   "source": []
  },
  {
   "cell_type": "code",
   "execution_count": 10,
   "metadata": {},
   "outputs": [
    {
     "data": {
      "text/plain": [
       "289"
      ]
     },
     "execution_count": 10,
     "metadata": {},
     "output_type": "execute_result"
    }
   ],
   "source": [
    "image.min()"
   ]
  },
  {
   "cell_type": "code",
   "execution_count": 11,
   "metadata": {},
   "outputs": [
    {
     "data": {
      "text/plain": [
       "-5347.818181818182"
      ]
     },
     "execution_count": 11,
     "metadata": {},
     "output_type": "execute_result"
    }
   ],
   "source": [
    "image_noBias.min()"
   ]
  },
  {
   "cell_type": "code",
   "execution_count": 12,
   "metadata": {},
   "outputs": [],
   "source": [
    "#Finding overscan lines\n",
    "rows = list()\n",
    "for i,itm in enumerate(image):\n",
    "    if np.median(itm) > 500:\n",
    "        rows.append(i)\n",
    "    \n",
    "rows = np.array(rows)\n",
    "\n",
    "columns = list()\n",
    "for i,itm in enumerate(image.transpose()):\n",
    "    if np.median(itm) > 500:\n",
    "        columns.append(i)\n",
    "columns = np.array(columns)"
   ]
  },
  {
   "cell_type": "code",
   "execution_count": 13,
   "metadata": {},
   "outputs": [],
   "source": [
    "#Removing overscan lines\n",
    "image_noRows = image_noBias[rows]\n",
    "trImage = image_noRows.transpose()\n",
    "image_noOverscan1 = trImage[columns]\n",
    "image_noOverscan_noBias = image_noOverscan1.transpose()\n"
   ]
  },
  {
   "cell_type": "code",
   "execution_count": 14,
   "metadata": {},
   "outputs": [],
   "source": [
    "flats_locations = glob.glob(\"data_wolf/flat.*.fits\")"
   ]
  },
  {
   "cell_type": "markdown",
   "metadata": {},
   "source": [
    "SDSS"
   ]
  },
  {
   "cell_type": "code",
   "execution_count": 15,
   "metadata": {},
   "outputs": [],
   "source": [
    "flats_files = list()\n",
    "for _,name in enumerate(flats_locations):\n",
    "    file = fits.open(name)\n",
    "    flats_files.append(file[0].data)\n",
    "flats_files = np.array(flats_files)"
   ]
  },
  {
   "cell_type": "code",
   "execution_count": 16,
   "metadata": {},
   "outputs": [],
   "source": [
    "flats_files_header = list()\n",
    "for _,name in enumerate(flats_locations):\n",
    "    file = fits.open(name)\n",
    "    flats_files_header.append(file[0].header)"
   ]
  },
  {
   "cell_type": "code",
   "execution_count": 17,
   "metadata": {},
   "outputs": [
    {
     "name": "stdout",
     "output_type": "stream",
     "text": [
      "J-C Rc flat.0031.fits\n",
      "J-C Rc flat.0027.fits\n",
      "Wash M flat.0007.fits\n",
      "Wash M flat.0011.fits\n",
      "Wash M flat.0010.fits\n",
      "Wash M flat.0006.fits\n",
      "J-C Rc flat.0026.fits\n",
      "J-C Rc flat.0030.fits\n",
      "J-C Rc flat.0040.fits\n",
      "J-C Rc flat.0017.fits\n",
      "J-C Rc flat.0037.fits\n",
      "J-C Rc flat.0021.fits\n",
      "J-C Rc flat.0020.fits\n",
      "J-C Rc flat.0036.fits\n",
      "Wash M flat.0016.fits\n",
      "J-C Rc flat.0041.fits\n",
      "J-C Rc flat.0039.fits\n",
      "Wash M flat.0015.fits\n",
      "J-C Rc flat.0023.fits\n",
      "J-C Rc flat.0035.fits\n",
      "J-C Rc flat.0019.fits\n",
      "J-C Rc flat.0018.fits\n",
      "J-C Rc flat.0034.fits\n",
      "J-C Rc flat.0022.fits\n",
      "Wash M flat.0014.fits\n",
      "J-C Rc flat.0038.fits\n",
      "J-C Rc flat.0025.fits\n",
      "J-C Rc flat.0033.fits\n",
      "Wash M flat.0009.fits\n",
      "J-C Rc flat.0029.fits\n",
      "Wash M flat.0013.fits\n",
      "Wash M flat.0005.fits\n",
      "Wash M flat.0012.fits\n",
      "J-C Rc flat.0028.fits\n",
      "Wash M flat.0008.fits\n",
      "J-C Rc flat.0032.fits\n",
      "J-C Rc flat.0024.fits\n"
     ]
    }
   ],
   "source": [
    "jc_ones = list()\n",
    "wash_ones = list()\n",
    "for i,name in enumerate(flats_files_header):\n",
    "    print(name[\"FILTER\"], name[\"FILENAME\"])\n",
    "    if name[\"FILTER\"] == 'J-C Rc':\n",
    "        jc_ones.append(i)\n",
    "    else:\n",
    "        wash_ones.append(i)\n"
   ]
  },
  {
   "cell_type": "code",
   "execution_count": 18,
   "metadata": {},
   "outputs": [
    {
     "data": {
      "text/plain": [
       "<matplotlib.image.AxesImage at 0x10f001f28>"
      ]
     },
     "execution_count": 18,
     "metadata": {},
     "output_type": "execute_result"
    },
    {
     "data": {
      "image/png": "[encoded data removed]",
      "text/plain": [
       "<Figure size 864x432 with 3 Axes>"
      ]
     },
     "metadata": {
      "needs_background": "light"
     },
     "output_type": "display_data"
    }
   ],
   "source": [
    "fig, ax = plt.subplots(1,3)\n",
    "\n",
    "fig.set_size_inches(12,6)\n",
    "\n",
    "fig.tight_layout()\n",
    "\n",
    "#Beginning\n",
    "ax[0].imshow(image,cmap=plt.cm.gray)\n",
    "\n",
    "#After Bias\n",
    "ax[1].imshow(image_noBias,cmap=plt.cm.gray)\n",
    "#No Bias no overscan\n",
    "ax[2].imshow(image_noOverscan_noBias,cmap=plt.cm.gray)"
   ]
  },
  {
   "cell_type": "code",
   "execution_count": 19,
   "metadata": {},
   "outputs": [
    {
     "data": {
      "text/plain": [
       "array([[-1062.45454545, -1039.45454545,  -999.18181818, ...,\n",
       "         -507.        ,  -545.        ,  -544.27272727],\n",
       "       [  161.54545455,   164.54545455,   159.09090909, ...,\n",
       "          179.27272727,   169.45454545,   176.        ],\n",
       "       [  172.        ,   161.09090909,   150.45454545, ...,\n",
       "          153.36363636,   172.        ,   169.45454545],\n",
       "       ...,\n",
       "       [  158.36363636,   149.63636364,   157.36363636, ...,\n",
       "          174.90909091,   164.09090909,   168.        ],\n",
       "       [  160.18181818,   163.18181818,   178.90909091, ...,\n",
       "          195.09090909,   154.45454545,   168.90909091],\n",
       "       [ -813.63636364,  -807.72727273,  -756.18181818, ...,\n",
       "        -1074.09090909, -1083.18181818, -1097.36363636]])"
      ]
     },
     "execution_count": 19,
     "metadata": {},
     "output_type": "execute_result"
    }
   ],
   "source": [
    "image_noOverscan_noBias"
   ]
  },
  {
   "cell_type": "code",
   "execution_count": 20,
   "metadata": {},
   "outputs": [],
   "source": [
    "fixed_image = getImageFile(\"quadRU.fits\")"
   ]
  },
  {
   "cell_type": "code",
   "execution_count": 21,
   "metadata": {},
   "outputs": [
    {
     "data": {
      "text/html": [
       "<i>Table length=152</i>\n",
       "<table id=\"table4550273288\" class=\"table-striped table-bordered table-condensed\">\n",
       "<thead><tr><th>id</th><th>xcentroid</th><th>ycentroid</th><th>sharpness</th><th>roundness1</th><th>roundness2</th><th>npix</th><th>sky</th><th>peak</th><th>flux</th><th>mag</th></tr></thead>\n",
       "<thead><tr><th>int64</th><th>float64</th><th>float64</th><th>float64</th><th>float64</th><th>float64</th><th>int64</th><th>float64</th><th>float64</th><th>float64</th><th>float64</th></tr></thead>\n",
       "<tr><td>1</td><td>563.323057603488</td><td>2.53623422757892</td><td>0.38136096560476934</td><td>0.9528118622658923</td><td>0.27479632984109664</td><td>25</td><td>0.0</td><td>60898.975660230615</td><td>232.51808317023546</td><td>-5.916141835168763</td></tr>\n",
       "<tr><td>2</td><td>565.1658558180326</td><td>5.3354296937597345</td><td>0.5251776794445369</td><td>-0.09417415676426125</td><td>0.3116921350400274</td><td>25</td><td>0.0</td><td>60956.34586339729</td><td>312.3917412359155</td><td>-6.236748859563409</td></tr>\n",
       "<tr><td>3</td><td>172.86072620903678</td><td>24.84289806759428</td><td>0.398716873942232</td><td>0.3890645257030233</td><td>-0.15485103891582017</td><td>25</td><td>0.0</td><td>3875.4178607834847</td><td>13.961660560948811</td><td>-2.862342687832489</td></tr>\n",
       "<tr><td>4</td><td>587.5847271152236</td><td>36.755588364098806</td><td>0.4516680009779857</td><td>0.3364861997236897</td><td>-0.22171365359731304</td><td>25</td><td>0.0</td><td>2162.562941680303</td><td>6.548422811294736</td><td>-2.0403417817230136</td></tr>\n",
       "<tr><td>5</td><td>550.5956561538496</td><td>40.52303259994759</td><td>0.45037789793670857</td><td>0.3312386645044196</td><td>-0.10212560532276478</td><td>25</td><td>0.0</td><td>757.528377357474</td><td>1.8650398554964813</td><td>-0.6767202925564698</td></tr>\n",
       "<tr><td>6</td><td>10.546901955011585</td><td>53.16353087784757</td><td>0.473073813356435</td><td>0.41097969531704737</td><td>0.13129919801415071</td><td>25</td><td>0.0</td><td>591.2629764164338</td><td>1.3901899712197598</td><td>-0.35768537800053396</td></tr>\n",
       "<tr><td>7</td><td>306.8259467297199</td><td>53.97188775660031</td><td>0.4450968705936288</td><td>0.2387464862318359</td><td>-0.20232565550289225</td><td>25</td><td>0.0</td><td>638.0527134510223</td><td>1.3577778796793336</td><td>-0.3320718226527922</td></tr>\n",
       "<tr><td>8</td><td>288.2560028419897</td><td>58.43175778583187</td><td>0.49137038934857796</td><td>0.0949540222718624</td><td>-0.07838321643673586</td><td>25</td><td>0.0</td><td>683.9316838731509</td><td>1.586419813284917</td><td>-0.5010453131711502</td></tr>\n",
       "<tr><td>9</td><td>963.6276121554017</td><td>60.62026901614525</td><td>0.43854673523456794</td><td>0.44704590875803474</td><td>-0.24134038947773223</td><td>25</td><td>0.0</td><td>681.3561322929083</td><td>1.3921271860787072</td><td>-0.3591972866218178</td></tr>\n",
       "<tr><td>10</td><td>501.4397205202975</td><td>62.76389889004376</td><td>0.5136966589469082</td><td>0.11416917773059126</td><td>-0.1238463440570041</td><td>25</td><td>0.0</td><td>724.1702556488617</td><td>1.5340077578176423</td><td>-0.4645688898552123</td></tr>\n",
       "<tr><td>...</td><td>...</td><td>...</td><td>...</td><td>...</td><td>...</td><td>...</td><td>...</td><td>...</td><td>...</td><td>...</td></tr>\n",
       "<tr><td>143</td><td>758.4105321782171</td><td>981.6532522642909</td><td>0.4264280928215238</td><td>0.07278435752241616</td><td>-0.12911677764945356</td><td>25</td><td>0.0</td><td>1934.835499113885</td><td>6.731225324094985</td><td>-2.0702353214272304</td></tr>\n",
       "<tr><td>144</td><td>212.10184292005087</td><td>987.8142464830703</td><td>0.35978641707558234</td><td>0.28385098391258345</td><td>-0.04510366025615072</td><td>25</td><td>0.0</td><td>826.8135507364505</td><td>2.2460445632362838</td><td>-0.8785459218612575</td></tr>\n",
       "<tr><td>145</td><td>800.3053258289724</td><td>990.871351846683</td><td>0.8777209319057075</td><td>-0.3118427550571163</td><td>-0.06403792385118026</td><td>25</td><td>0.0</td><td>553.2521356732841</td><td>1.2216477009893818</td><td>-0.21736495507837794</td></tr>\n",
       "<tr><td>146</td><td>445.53230356034493</td><td>993.170132812014</td><td>0.46256562290448744</td><td>0.4277106636794155</td><td>-0.19502882410689917</td><td>25</td><td>0.0</td><td>9862.41829792445</td><td>36.34041631015211</td><td>-3.900974745526228</td></tr>\n",
       "<tr><td>147</td><td>812.827252555675</td><td>997.7647600730755</td><td>0.764490478328676</td><td>0.2380364861121518</td><td>-0.009317249625209821</td><td>25</td><td>0.0</td><td>744.2147254515867</td><td>2.580561990871851</td><td>-1.0292857406406812</td></tr>\n",
       "<tr><td>148</td><td>802.6684004231965</td><td>998.5420927389798</td><td>0.4628433002923256</td><td>0.1708259434387865</td><td>-0.08802581898887249</td><td>25</td><td>0.0</td><td>765.8319888205326</td><td>1.658632314942262</td><td>-0.5493753060951861</td></tr>\n",
       "<tr><td>149</td><td>101.81787822978245</td><td>1003.1381202671514</td><td>0.42498803968777554</td><td>0.3069507258577584</td><td>-0.1569801872008497</td><td>25</td><td>0.0</td><td>4768.610108667065</td><td>17.34505235495106</td><td>-3.0979390376766798</td></tr>\n",
       "<tr><td>150</td><td>187.49386394095575</td><td>1005.3726982425862</td><td>0.4348026405754004</td><td>0.10179968115483191</td><td>-0.10542516165395875</td><td>25</td><td>0.0</td><td>919.3640584296941</td><td>2.4441434862392666</td><td>-0.9703167451832083</td></tr>\n",
       "<tr><td>151</td><td>713.4692651345089</td><td>1006.9310214732074</td><td>0.4002594805756619</td><td>0.28897043100162834</td><td>-0.18716068391068527</td><td>25</td><td>0.0</td><td>719.0655462777481</td><td>1.8537997942980018</td><td>-0.670157074080865</td></tr>\n",
       "<tr><td>152</td><td>602.8223372773192</td><td>1014.12687119569</td><td>0.43190347356407416</td><td>0.15456696378888518</td><td>-0.21642561912342945</td><td>25</td><td>0.0</td><td>982.777412533123</td><td>2.7653749543088364</td><td>-1.1043850629237653</td></tr>\n",
       "</table>"
      ],
      "text/plain": [
       "<Table length=152>\n",
       "  id      xcentroid      ...        flux                mag         \n",
       "int64      float64       ...      float64             float64       \n",
       "----- ------------------ ... ------------------ --------------------\n",
       "    1   563.323057603488 ... 232.51808317023546   -5.916141835168763\n",
       "    2  565.1658558180326 ...  312.3917412359155   -6.236748859563409\n",
       "    3 172.86072620903678 ... 13.961660560948811   -2.862342687832489\n",
       "    4  587.5847271152236 ...  6.548422811294736  -2.0403417817230136\n",
       "    5  550.5956561538496 ... 1.8650398554964813  -0.6767202925564698\n",
       "    6 10.546901955011585 ... 1.3901899712197598 -0.35768537800053396\n",
       "    7  306.8259467297199 ... 1.3577778796793336  -0.3320718226527922\n",
       "    8  288.2560028419897 ...  1.586419813284917  -0.5010453131711502\n",
       "    9  963.6276121554017 ... 1.3921271860787072  -0.3591972866218178\n",
       "   10  501.4397205202975 ... 1.5340077578176423  -0.4645688898552123\n",
       "  ...                ... ...                ...                  ...\n",
       "  143  758.4105321782171 ...  6.731225324094985  -2.0702353214272304\n",
       "  144 212.10184292005087 ... 2.2460445632362838  -0.8785459218612575\n",
       "  145  800.3053258289724 ... 1.2216477009893818 -0.21736495507837794\n",
       "  146 445.53230356034493 ...  36.34041631015211   -3.900974745526228\n",
       "  147   812.827252555675 ...  2.580561990871851  -1.0292857406406812\n",
       "  148  802.6684004231965 ...  1.658632314942262  -0.5493753060951861\n",
       "  149 101.81787822978245 ...  17.34505235495106  -3.0979390376766798\n",
       "  150 187.49386394095575 ... 2.4441434862392666  -0.9703167451832083\n",
       "  151  713.4692651345089 ... 1.8537997942980018   -0.670157074080865\n",
       "  152  602.8223372773192 ... 2.7653749543088364  -1.1043850629237653"
      ]
     },
     "execution_count": 21,
     "metadata": {},
     "output_type": "execute_result"
    }
   ],
   "source": [
    "temp = ph.DAOStarFinder(threshold=0.5*np.median(fixed_image), fwhm=3,sharplo=0.35)\n",
    "objects = temp.find_stars(fixed_image)\n",
    "objects"
   ]
  },
  {
   "cell_type": "code",
   "execution_count": 22,
   "metadata": {},
   "outputs": [
    {
     "data": {
      "image/png": "[encoded data removed]",
      "text/plain": [
       "<Figure size 864x432 with 2 Axes>"
      ]
     },
     "metadata": {
      "needs_background": "light"
     },
     "output_type": "display_data"
    }
   ],
   "source": [
    "fig, ax = plt.subplots(1,2)\n",
    "\n",
    "fig.set_size_inches(12,6)\n",
    "\n",
    "fig.tight_layout()\n",
    "\n",
    "# Image given by class\n",
    "ax[0].imshow(fixed_image, cmap=plt.cm.gray)\n",
    "\n",
    "ax[1].imshow(fixed_image,cmap=plt.cm.gray)\n",
    "\n",
    "# Objects\n",
    "ax[1].plot(objects[\"xcentroid\"],objects[\"ycentroid\"],color=\"red\",marker=\"o\",linestyle=\"None\",markersize=3);\n"
   ]
  },
  {
   "cell_type": "code",
   "execution_count": 23,
   "metadata": {},
   "outputs": [
    {
     "data": {
      "text/plain": [
       "array([[ 1.01618520e+04,  2.61122895e+02,  2.45189498e+02, ...,\n",
       "         3.04910327e+02,  2.94579317e+04,  2.93616404e+04],\n",
       "       [ 1.03162668e+04,  2.64561610e+02,  2.61962700e+02, ...,\n",
       "         2.90272307e+02,  2.93651906e+04,  2.91827213e+04],\n",
       "       [ 1.02007101e+04,  2.62341308e+02,  2.69187986e+02, ...,\n",
       "         2.96814186e+02,  2.90899314e+04,  2.91827213e+04],\n",
       "       ...,\n",
       "       [ 9.47799678e+03,  2.33501954e+02,  2.30738582e+02, ...,\n",
       "         4.40080105e+02,  2.56387692e+04,  2.57785397e+04],\n",
       "       [ 9.74629869e+03,  2.59858801e+02,  2.51449294e+02, ...,\n",
       "         4.34211750e+02,  2.55006280e+04,  2.59367700e+04],\n",
       "       [ 8.40775996e+03, -3.89932355e+01, -2.76036183e+01, ...,\n",
       "        -1.03570948e+03,  2.08008294e+03,  2.09440023e+03]])"
      ]
     },
     "execution_count": 23,
     "metadata": {},
     "output_type": "execute_result"
    }
   ],
   "source": [
    "fixed_image"
   ]
  },
  {
   "cell_type": "code",
   "execution_count": 30,
   "metadata": {},
   "outputs": [
    {
     "name": "stdout",
     "output_type": "stream",
     "text": [
      " id      xcenter            ycenter          aperture_sum   \n",
      "           pix                pix                           \n",
      "--- ------------------ ------------------ ------------------\n",
      "  1   563.323057603488   2.53623422757892    769289.32980159\n",
      "  2  565.1658558180326 5.3354296937597345  607893.7121771859\n",
      "  3 172.86072620903678  24.84289806759428 37637.831803469104\n",
      "  4  587.5847271152236 36.755588364098806  21619.06031301055\n",
      "  5  550.5956561538496  40.52303259994759  8096.042848591713\n",
      "  6 10.546901955011585  53.16353087784757  6421.738352893766\n",
      "  7  306.8259467297199  53.97188775660031  6777.723144188688\n",
      "  8  288.2560028419897  58.43175778583187  7196.065447754016\n",
      "  9  963.6276121554017  60.62026901614525  7662.954923047189\n",
      " 10  501.4397205202975  62.76389889004376  7621.335717873588\n",
      "...                ...                ...                ...\n",
      "143  758.4105321782171  981.6532522642909  19095.74591956446\n",
      "144 212.10184292005087  987.8142464830703   8771.09178050686\n",
      "145  800.3053258289724   990.871351846683  4847.746036046814\n",
      "146 445.53230356034493   993.170132812014   93154.9514421666\n",
      "147   812.827252555675  997.7647600730755  5420.023190227986\n",
      "148  802.6684004231965  998.5420927389798  8240.093363489828\n",
      "149 101.81787822978245 1003.1381202671514  45059.36600499533\n",
      "150 187.49386394095575 1005.3726982425862  9837.172843216835\n",
      "151  713.4692651345089 1006.9310214732074 7654.3037946401655\n",
      "152  602.8223372773192   1014.12687119569  9977.255395259448\n",
      "Length = 152 rows\n"
     ]
    }
   ],
   "source": [
    "# https://photutils.readthedocs.io/en/stable/api/photutils.CircularAperture.html#photutils.CircularAperture\n",
    "r=2\n",
    "circ_ap = ph.CircularAperture([objects[\"xcentroid\"],objects[\"ycentroid\"]], r)\n",
    "phot_table = ph.aperture_photometry(fixed_image, circ_ap)\n",
    "print(phot_table)"
   ]
  },
  {
   "cell_type": "markdown",
   "metadata": {},
   "source": [
    "https://photutils.readthedocs.io/en/stable/index.html\n",
    "\n",
    "https://photutils.readthedocs.io/en/stable/aperture.html\n"
   ]
  },
  {
   "cell_type": "code",
   "execution_count": 28,
   "metadata": {},
   "outputs": [
    {
     "name": "stdout",
     "output_type": "stream",
     "text": [
      " id      xcenter            ycenter          aperture_sum   \n",
      "           pix                pix                           \n",
      "--- ------------------ ------------------ ------------------\n",
      "  1   563.323057603488   2.53623422757892    769289.32980159\n",
      "  2  565.1658558180326 5.3354296937597345  607893.7121771859\n",
      "  3 172.86072620903678  24.84289806759428 37637.831803469104\n",
      "  4  587.5847271152236 36.755588364098806  21619.06031301055\n",
      "  5  550.5956561538496  40.52303259994759  8096.042848591713\n",
      "  6 10.546901955011585  53.16353087784757  6421.738352893766\n",
      "  7  306.8259467297199  53.97188775660031  6777.723144188688\n",
      "  8  288.2560028419897  58.43175778583187  7196.065447754016\n",
      "  9  963.6276121554017  60.62026901614525  7662.954923047189\n",
      " 10  501.4397205202975  62.76389889004376  7621.335717873588\n",
      "...                ...                ...                ...\n",
      "143  758.4105321782171  981.6532522642909  19095.74591956446\n",
      "144 212.10184292005087  987.8142464830703   8771.09178050686\n",
      "145  800.3053258289724   990.871351846683  4847.746036046814\n",
      "146 445.53230356034493   993.170132812014   93154.9514421666\n",
      "147   812.827252555675  997.7647600730755  5420.023190227986\n",
      "148  802.6684004231965  998.5420927389798  8240.093363489828\n",
      "149 101.81787822978245 1003.1381202671514  45059.36600499533\n",
      "150 187.49386394095575 1005.3726982425862  9837.172843216835\n",
      "151  713.4692651345089 1006.9310214732074 7654.3037946401655\n",
      "152  602.8223372773192   1014.12687119569  9977.255395259448\n",
      "Length = 152 rows\n"
     ]
    }
   ],
   "source": []
  },
  {
   "cell_type": "code",
   "execution_count": null,
   "metadata": {},
   "outputs": [],
   "source": []
  }
 ],
 "metadata": {
  "kernelspec": {
   "display_name": "Python 3",
   "language": "python",
   "name": "python3"
  },
  "language_info": {
   "codemirror_mode": {
    "name": "ipython",
    "version": 3
   },
   "file_extension": ".py",
   "mimetype": "text/x-python",
   "name": "python",
   "nbconvert_exporter": "python",
   "pygments_lexer": "ipython3",
   "version": "3.7.3"
  }
 },
 "nbformat": 4,
 "nbformat_minor": 2
}
